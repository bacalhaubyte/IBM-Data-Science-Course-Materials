{
 "cells": [
  {
   "cell_type": "markdown",
   "id": "3c363d60",
   "metadata": {},
   "source": [
    "# Data Science Tools and Ecosystem"
   ]
  },
  {
   "cell_type": "markdown",
   "id": "f4aa9ebf",
   "metadata": {},
   "source": [
    "In this notebook, Data Science Tools and Ecosystem are summarized."
   ]
  },
  {
   "cell_type": "markdown",
   "id": "c99ffc18",
   "metadata": {},
   "source": [
    "**Objectives:**\n",
    "* List popular languages for data science\n",
    "* Learn about data analysis processes and tools\n",
    "* Lean about and create Jupyter Notebooks\n",
    "* Perform basic data analysis using RStudio\n"
   ]
  },
  {
   "cell_type": "markdown",
   "id": "77a265e6",
   "metadata": {},
   "source": [
    "Some of the popular languages that Data Scientists use are:"
   ]
  },
  {
   "cell_type": "markdown",
   "id": "6eb23862",
   "metadata": {},
   "source": [
    "1. R\n",
    "1. Python\n",
    "1. Scala\n",
    "1. Java Script"
   ]
  },
  {
   "cell_type": "markdown",
   "id": "4fe5a6d4",
   "metadata": {},
   "source": [
    "Some of the commonly used libraries used by Data Scientists include:"
   ]
  },
  {
   "cell_type": "markdown",
   "id": "de80af7d",
   "metadata": {},
   "source": [
    "1. Pandas\n",
    "1. Matplotlib\n",
    "1. Seaborn\n",
    "1. SciKit\n",
    "1. Keras\n",
    "1. PyTorch\n",
    "1. NumPy\n",
    "1. ggplot\n",
    "1. dplyr\n",
    "1. plotly\n",
    "1. lattice\n"
   ]
  },
  {
   "cell_type": "markdown",
   "id": "00f701c0",
   "metadata": {},
   "source": [
    "| Data Science Tools |\n",
    "| --- |\n",
    "| RStudio |\n",
    "| Anaconda |\n",
    "| JupyterLite |"
   ]
  },
  {
   "cell_type": "markdown",
   "id": "2130e24e",
   "metadata": {},
   "source": [
    "### Below are a few examples of evaluating arithmetic expressions in Python"
   ]
  },
  {
   "cell_type": "code",
   "execution_count": null,
   "id": "2f573974",
   "metadata": {},
   "outputs": [
    {
     "data": {
      "text/plain": [
       "17"
      ]
     },
     "execution_count": 2,
     "metadata": {},
     "output_type": "execute_result"
    }
   ],
   "source": [
    "#  This a simple arithmetic expression to mutiply then add integers:\n",
    "(3*4)+5\n"
   ]
  },
  {
   "cell_type": "code",
   "execution_count": 3,
   "id": "81b3e889",
   "metadata": {},
   "outputs": [
    {
     "data": {
      "text/plain": [
       "3.3333333333333335"
      ]
     },
     "execution_count": 3,
     "metadata": {},
     "output_type": "execute_result"
    }
   ],
   "source": [
    "# This will convert 200 minutes to hours by diving by 60:\n",
    "200/60\n"
   ]
  },
  {
   "cell_type": "markdown",
   "id": "091930ee",
   "metadata": {},
   "source": [
    "## Author"
   ]
  },
  {
   "cell_type": "markdown",
   "id": "7e2de8df",
   "metadata": {},
   "source": [
    "Fernando Gouveia"
   ]
  }
 ],
 "metadata": {
  "kernelspec": {
   "display_name": "Python 3",
   "language": "python",
   "name": "python3"
  },
  "language_info": {
   "codemirror_mode": {
    "name": "ipython",
    "version": 3
   },
   "file_extension": ".py",
   "mimetype": "text/x-python",
   "name": "python",
   "nbconvert_exporter": "python",
   "pygments_lexer": "ipython3",
   "version": "3.13.3"
  }
 },
 "nbformat": 4,
 "nbformat_minor": 5
}
